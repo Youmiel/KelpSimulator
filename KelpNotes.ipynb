{
 "cells": [
  {
   "cell_type": "markdown",
   "source": [
    "# ARCHIVED\n"
   ],
   "metadata": {}
  },
  {
   "cell_type": "code",
   "execution_count": 64,
   "source": [
    "import csv\n",
    "import random\n",
    "import json\n",
    "import decimal"
   ],
   "outputs": [],
   "metadata": {}
  },
  {
   "cell_type": "markdown",
   "source": [
    "#### What we have known\n",
    "\n",
    "- Random tick ticks 3 times a gametick in every subchunk, 1 block each time, distributed equally, and duplication is allowed.\n",
    "  - Therefore, the probability of a random tick selects exactly one specific block is `p = 1 / (16 ** 3)` \n",
    "- A kelp block has 14% chance to grow 1 block if randomly ticked once.\n",
    "- A kelp block stops growing when *age* >= 25, and *age* increase 1 each time it grows.\n",
    "- Kelp obtians random *age* between [0,24] when it is placed, not growed."
   ],
   "metadata": {}
  },
  {
   "cell_type": "code",
   "execution_count": 65,
   "source": [
    "class Kelp():\n",
    "    growth_probability = 0.14\n",
    "    seletct_probability = 1/(16**3)\n",
    "    segement_size = 16**2\n",
    "    subchunk_size = 16**3\n",
    "    def __init__(self) -> None:\n",
    "        self.init()\n",
    "\n",
    "    def init(self):\n",
    "        self.age = random.randint(0,24)\n",
    "        self.start_age = self.age\n",
    "\n",
    "    def tick(self):\n",
    "        if self.age < 25 and random.random() < Kelp.growth_probability:\n",
    "            self.age += 1\n",
    "\n",
    "    def harvest(self) -> int:\n",
    "        result = self.age - self.start_age\n",
    "        self.init()\n",
    "        return result\n",
    "    \n",
    "    def reset(self):\n",
    "        self.harvest()"
   ],
   "outputs": [],
   "metadata": {}
  },
  {
   "cell_type": "markdown",
   "source": [
    "#### Configs:\n",
    "\n",
    "```\n",
    "tick_speed: int\n",
    "    # known as randomTickSpeed\n",
    "harvest_period: int\n",
    "    # gameticks of harvest period\n",
    "empty_tick: int\n",
    "    # some special cases after harvest so that the kelp cannot grow immediately after harvest. For example, water flow takes 5gt to refill the empty space created by piston.\n",
    "height_limit: int\n",
    "    # max height allowed in this farm\n",
    "grow_after_tick: bool \n",
    "    # Fasle: 1.15~1.16.5 behavior, random tick before scheduled tick; True: 1.15- & 1.17.x behavior, random tick after schedueled tick\n",
    "kelp_count: int\n",
    "    # numbers of kelp that used in simulation\n",
    "test_time: int\n",
    "    # unit gameticks\n",
    "```\n"
   ],
   "metadata": {}
  },
  {
   "cell_type": "code",
   "execution_count": 66,
   "source": [
    "config = {\n",
    "    'tick_speed': 3,\n",
    "    'harvest_period': {\n",
    "        'type': 'continuous',\n",
    "        'start': 600,\n",
    "        'end': 3600,\n",
    "        'step': 600\n",
    "    },\n",
    "    'empty_tick': {\n",
    "        'type': 'list',\n",
    "        'values': [5]\n",
    "    },\n",
    "    'height_limit': {\n",
    "        'type': 'list',\n",
    "        'values': [10, 20]\n",
    "    },\n",
    "    'grow_after_tick': False,\n",
    "    'kelp_count': 1000,\n",
    "    'test_time': 72000,\n",
    "    'keys': ['harvest_period','height_limit']\n",
    "}\n",
    "# supported types are 'continuous' and 'list'"
   ],
   "outputs": [],
   "metadata": {}
  },
  {
   "cell_type": "code",
   "execution_count": 67,
   "source": [
    "# global variables\n",
    "kelps = []\n",
    "result = []\n",
    "temp_result = []"
   ],
   "outputs": [],
   "metadata": {}
  },
  {
   "cell_type": "markdown",
   "source": [
    "Some works to do before the calculation start:\n",
    "\n",
    "- Load the config(json) from file for the test condition.\n",
    "- Initialize the test condition, translate some configuration so further calculation is easier.\n"
   ],
   "metadata": {}
  },
  {
   "cell_type": "code",
   "execution_count": 68,
   "source": [
    "def load_config(path: str):\n",
    "    global config\n",
    "    try:\n",
    "        with open(path) as file:\n",
    "            temp = json.load(file)\n",
    "        config = temp\n",
    "    except:\n",
    "        with open(path,'w') as file:\n",
    "            json.dump(config, file, indent=4)\n",
    "        print(\"Config not found, automatically generate default.\")\n",
    "        exit()\n",
    "    pass\n",
    "\n",
    "def translate_list(val: dict) -> list:\n",
    "    if val['type'] == 'list':\n",
    "        return val['values']\n",
    "    elif val['type'] == 'continuous':\n",
    "        return range(val['start'], val['end'], val['step'])\n",
    "\n",
    "def init():\n",
    "    global config, kelps\n",
    "    key_1: str\n",
    "    key_2: str\n",
    "    key_3: str\n",
    "    accepted_keys = ['harvest_period', 'empty_tick', 'height_limit']\n",
    "    if len(config['keys']) >= 2:\n",
    "        [key_1 , key_2] = config['keys'][0:2]\n",
    "        if (key_1 not in accepted_keys) and (key_2 not in accepted_keys):\n",
    "            print(\"Error in config \\'key\\'\")\n",
    "            exit()\n",
    "        accepted_keys.remove(key_1)\n",
    "        accepted_keys.remove(key_2)\n",
    "        key_3 = accepted_keys[0]\n",
    "        config['keys'] = [key_1, key_2, key_3]\n",
    "    else:\n",
    "        print(\"Error in config \\'key\\'\")\n",
    "        exit()\n",
    "\n",
    "    config['harvest_period'] = translate_list(config['harvest_period'])\n",
    "    config['empty_tick'] = translate_list(config['empty_tick'])\n",
    "    config['height_limit'] = translate_list(config['height_limit'])\n",
    "\n",
    "    for i in range(config['kelp_count']):\n",
    "        kelps.append(Kelp())\n",
    "    print('Starting test with %d kelp plants'%config['kelp_count'])\n"
   ],
   "outputs": [],
   "metadata": {}
  },
  {
   "cell_type": "markdown",
   "source": [
    "There are 3 configurable variables that can have multiple input value, so 3 for-loops to handle them. To make data easier to use, the results are exported to csv tables."
   ],
   "metadata": {}
  },
  {
   "cell_type": "code",
   "execution_count": 69,
   "source": [
    "def start():\n",
    "    global config, result, temp_result\n",
    "    conf = config.copy()\n",
    "    for key_3 in config[config['keys'][2]]:\n",
    "        conf[config['keys'][2]] = key_3\n",
    "        result = {}\n",
    "        for key_2 in config[config['keys'][1]]:\n",
    "            conf[config['keys'][1]] = key_2\n",
    "            for key_1 in config[config['keys'][0]]:\n",
    "                conf[config['keys'][0]] = key_1\n",
    "                print('Start simulating:' +\\\n",
    "                    config['keys'][0] + '=' + str(key_1) + ' ' +\\\n",
    "                    config['keys'][1] + '=' + str(key_2) + ' ' +\\\n",
    "                    config['keys'][2] + '=' + str(key_3) + ' '\n",
    "                    )\n",
    "                simulate(conf)\n",
    "            # collect data\n",
    "            temp_list = []\n",
    "            for (c,val) in temp_result:\n",
    "                temp_list.append(val)\n",
    "            temp_result = []\n",
    "            result[key_2] = temp_list\n",
    "\n",
    "        path = './' + config['keys'][2] + '=' + str(key_3) +\\\n",
    "             '<' + config['keys'][0] + ','+ config['keys'][1] + '>'\n",
    "        with open(path + '.csv','w',newline='') as csvfile:\n",
    "            writer = csv.writer(csvfile)\n",
    "            writer.writerow([config['keys'][1] + '|' + config['keys'][0]] +\\\n",
    "                list(config[config['keys'][0]]))\n",
    "            for key_2 in config[config['keys'][1]]:\n",
    "                writer.writerow([key_2] + result[key_2])\n",
    "            \n",
    "        \n",
    "            "
   ],
   "outputs": [],
   "metadata": {}
  },
  {
   "cell_type": "markdown",
   "source": [
    "Below codes simulate a system with configured conditions, modelling a kelp farm."
   ],
   "metadata": {}
  },
  {
   "cell_type": "code",
   "execution_count": 70,
   "source": [
    "def simulate(config: dict):\n",
    "    global kelps, temp_result\n",
    "    gt: int\n",
    "    # print(config)\n",
    "    for kelp in kelps:\n",
    "        kelp.reset()\n",
    "    counters = {\n",
    "        'item': 0,\n",
    "        'empty': 0,\n",
    "        'harvest': config['harvest_period']\n",
    "    }\n",
    "    for gt in range(config['test_time']):\n",
    "        tick(gt, counters, config)    \n",
    "    eff = decimal.Decimal(counters['item']) / decimal.Decimal(config['kelp_count'] * config['test_time'] / 72000)\n",
    "    temp_result.append((config, eff))\n",
    "\n",
    "def tick(gametick: int, counters: dict, config: dict):\n",
    "    global kelps\n",
    "    if(config['grow_after_tick']):\n",
    "        counters['harvest'] -= 1 # harvest counter\n",
    "        if counters['empty'] > 0:\n",
    "            counters['empty'] -= 1 # scheduled tick\n",
    "        if counters['empty'] <= 0:\n",
    "            for i in range(config['tick_speed']):  # grow(random tick)\n",
    "                selection = []\n",
    "                for segement in range(int(config['kelp_count'] / Kelp.segement_size) + 1):\n",
    "                    index = random.randrange(0, Kelp.subchunk_size) + segement * Kelp.segement_size\n",
    "                    if index < ((segement + 1) * Kelp.segement_size) and index < config['kelp_count']:\n",
    "                        selection.append(kelps[index])\n",
    "                for kelp in selection:\n",
    "                    kelp.tick()\n",
    "    else:\n",
    "        counters['harvest'] -= 1 # harvest counter\n",
    "        if counters['empty'] <= 0:\n",
    "            for i in range(config['tick_speed']):  # grow(random tick)\n",
    "                selection = []\n",
    "                for segement in range(int(config['kelp_count'] / Kelp.segement_size) + 1):\n",
    "                    index = random.randrange(0, Kelp.subchunk_size) + segement * Kelp.segement_size\n",
    "                    if index < ((segement + 1) * Kelp.segement_size) and index < config['kelp_count']:\n",
    "                        selection.append(kelps[index])\n",
    "                for kelp in selection:\n",
    "                    kelp.tick()\n",
    "        if counters['empty'] > 0:\n",
    "            counters['empty'] -= 1 # scheduled tick\n",
    "\n",
    "    if counters['harvest'] <= 0:\n",
    "        items = 0\n",
    "        for kelp in kelps:\n",
    "            items += min(kelp.harvest(), config['height_limit'])\n",
    "        counters['item'] += items\n",
    "        counters['harvest'] = config['harvest_period'] # piston\n",
    "        counters['empty'] = config['empty_tick']\n",
    "    if ((gametick + 1) % 72000) == 0:\n",
    "        print('Warped ' + str(int((gametick + 1) / 72000)) + ' hour(s)..' + str(counters['item']))"
   ],
   "outputs": [],
   "metadata": {}
  },
  {
   "cell_type": "markdown",
   "source": [
    "Nothing here because the data is supposed to be handled later."
   ],
   "metadata": {}
  },
  {
   "cell_type": "code",
   "execution_count": 71,
   "source": [
    "def show_result():\n",
    "    print('DONE!\\n')\n",
    "    pass\n"
   ],
   "outputs": [],
   "metadata": {}
  },
  {
   "cell_type": "code",
   "execution_count": 72,
   "source": [
    "# structure\n",
    "load_config(\"./config.json\")\n",
    "init()\n",
    "start()\n",
    "show_result()"
   ],
   "outputs": [
    {
     "output_type": "stream",
     "name": "stdout",
     "text": [
      "Starting test with 2560 kelp plants\n",
      "Start simulating:harvest_period=10 height_limit=3 empty_tick=5 \n",
      "Warped 1 hour(s)..188\n",
      "Warped 2 hour(s)..337\n",
      "Warped 3 hour(s)..507\n",
      "Warped 4 hour(s)..698\n",
      "Warped 5 hour(s)..861\n",
      "Warped 6 hour(s)..1039\n",
      "Warped 7 hour(s)..1210\n"
     ]
    }
   ],
   "metadata": {}
  }
 ],
 "metadata": {
  "orig_nbformat": 4,
  "language_info": {
   "name": "python",
   "version": "3.9.2",
   "mimetype": "text/x-python",
   "codemirror_mode": {
    "name": "ipython",
    "version": 3
   },
   "pygments_lexer": "ipython3",
   "nbconvert_exporter": "python",
   "file_extension": ".py"
  },
  "kernelspec": {
   "name": "python3",
   "display_name": "Python 3.9.2 64-bit"
  },
  "interpreter": {
   "hash": "e7370f93d1d0cde622a1f8e1c04877d8463912d04d973331ad4851f04de6915a"
  }
 },
 "nbformat": 4,
 "nbformat_minor": 2
}